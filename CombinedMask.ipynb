{
 "cells": [
  {
   "cell_type": "code",
   "execution_count": 1,
   "metadata": {},
   "outputs": [
    {
     "name": "stderr",
     "output_type": "stream",
     "text": [
      "2024-11-06 16:01:18.269 python[64651:4534076] +[IMKClient subclass]: chose IMKClient_Legacy\n",
      "2024-11-06 16:01:18.269 python[64651:4534076] +[IMKInputSession subclass]: chose IMKInputSession_Legacy\n"
     ]
    },
    {
     "data": {
      "text/plain": [
       "-1"
      ]
     },
     "execution_count": 1,
     "metadata": {},
     "output_type": "execute_result"
    }
   ],
   "source": [
    "import cv2\n",
    "import numpy as np\n",
    "\n",
    "# Capture video and initialize background subtractor\n",
    "cap = cv2.VideoCapture('Images/traffic.mp4')\n",
    "bg_subtractor = cv2.createBackgroundSubtractorKNN()\n",
    "\n",
    "# Lucas-Kanade parameters\n",
    "lk_params = dict(winSize=(15, 15), maxLevel=2, criteria=(cv2.TERM_CRITERIA_EPS | cv2.TERM_CRITERIA_COUNT, 10, 0.03))\n",
    "\n",
    "# Read initial frame and set up points for tracking\n",
    "ret, old_frame = cap.read()\n",
    "old_gray = cv2.cvtColor(old_frame, cv2.COLOR_BGR2GRAY)\n",
    "p0 = cv2.goodFeaturesToTrack(old_gray, maxCorners=100, qualityLevel=0.3, minDistance=7, blockSize=7)\n",
    "\n",
    "kernel = np.ones((9, 9), dtype=np.uint8)\n",
    "\n",
    "while cap.isOpened():\n",
    "    ret, frame = cap.read()\n",
    "    if not ret:\n",
    "        break\n",
    "\n",
    "    # Convert frame to grayscale\n",
    "    gray = cv2.cvtColor(frame, cv2.COLOR_BGR2GRAY)\n",
    "\n",
    "    # Background subtraction mask\n",
    "    fg_mask = bg_subtractor.apply(gray)\n",
    "\n",
    "    # Calculate optical flow for Lucas-Kanade\n",
    "    p1, st, err = cv2.calcOpticalFlowPyrLK(old_gray, gray, p0, None, **lk_params)\n",
    "\n",
    "    # Create a mask for optical flow points\n",
    "    flow_mask = np.zeros_like(fg_mask)\n",
    "    if p1 is not None:\n",
    "        good_new = p1[st == 1]\n",
    "        for point in good_new:\n",
    "            x, y = point.ravel()\n",
    "            flow_mask = cv2.circle(flow_mask, (int(x), int(y)), 5, 255, -1)  # Draw points as white on black mask\n",
    "\n",
    "    # Merge masks\n",
    "    combined_mask = cv2.bitwise_or(fg_mask, flow_mask)\n",
    "\n",
    "    # Refine the mask (optional)\n",
    "    kernel = np.ones((3, 3), np.uint8)\n",
    "    combined_mask = cv2.morphologyEx(combined_mask, cv2.MORPH_CLOSE, kernel)\n",
    "\n",
    "    # Remove very small bright areas\n",
    "    combined_mask = cv2.morphologyEx(combined_mask, cv2.MORPH_OPEN, kernel)\n",
    "\n",
    "\n",
    "    # # Threshhold the mask so only the bright areas are detected\n",
    "    _, combined_mask = cv2.threshold(combined_mask, 200, 255, cv2.THRESH_BINARY)\n",
    "\n",
    "    # Display the result\n",
    "    cv2.imshow('Combined Mask', combined_mask)\n",
    "    if cv2.waitKey(30) & 0xFF == ord('q'):\n",
    "        break\n",
    "\n",
    "    # Update previous frame and points\n",
    "    old_gray = gray.copy()\n",
    "    p0 = good_new.reshape(-1, 1, 2)\n",
    "\n",
    "\n",
    "\n",
    "\n",
    "cap.release()\n",
    "cv2.destroyAllWindows()\n",
    "cv2.waitKey(1)"
   ]
  }
 ],
 "metadata": {
  "kernelspec": {
   "display_name": ".venv",
   "language": "python",
   "name": "python3"
  },
  "language_info": {
   "codemirror_mode": {
    "name": "ipython",
    "version": 3
   },
   "file_extension": ".py",
   "mimetype": "text/x-python",
   "name": "python",
   "nbconvert_exporter": "python",
   "pygments_lexer": "ipython3",
   "version": "3.10.12"
  }
 },
 "nbformat": 4,
 "nbformat_minor": 2
}
